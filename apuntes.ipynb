{
 "cells": [
  {
   "cell_type": "markdown",
   "metadata": {},
   "source": [
    "Para hacer una regresión lineal se deben cumplir ciertos criterios\n",
    "1. La linealidad: Debemos verificar que la relación entre varibles es lineal y la manera más fácil de hacerlo es graficar las variables independientes y dependiente en un diagrama de dispersión y si lo puntos dispersos mueustran una linea recta que se ajuste a los datos entonces cumple con el criterio. Lo que se puede hacer en caso de que no se cumpla es hacer otro tipo de regresión que no sea lineal o tranformar los datos para que se ajusten a la linealidad y esto se puede hacer a través de transformación exponencial o logaritmica\n",
    "2. No endogeneidad de los regresores: Ocurre cuando se omite una variable que es relevante para la regresión, ya que cada variable independiente explica 'y' y juantas se relacionan de alguna maneram entonces, al tratar de explicar los datos pueden llegar al error, esto también es conocido como sesgo de variable omitida. el sesgo de variable omitida ocurre cuando olvidas incluir una variable. Esto refleja en el término de error ya que el factor que olvidaste es incluido en el error. De esta manera, el error no es aleatorio pero incluye una parte sistemática (la variable sistemática)\n",
    "3. Normalidad y homocedastisidad: \n",
    "4. No autocorrelación: La correlación no se observa en datos transversales. Usualmente la identificas en una serie de tiempo, la cual es un subconjunto de los datos de panel. Los datos muestrales no son relevantes para esta cuestión."
   ]
  }
 ],
 "metadata": {
  "language_info": {
   "name": "python"
  },
  "orig_nbformat": 4
 },
 "nbformat": 4,
 "nbformat_minor": 2
}
